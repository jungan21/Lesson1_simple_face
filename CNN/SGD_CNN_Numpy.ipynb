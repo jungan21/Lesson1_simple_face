{
 "cells": [
  {
   "cell_type": "code",
   "execution_count": 10,
   "metadata": {},
   "outputs": [],
   "source": [
    "import numpy as np\n",
    "from matplotlib import pyplot as plt\n",
    "import random\n",
    "import pandas as pd\n",
    "%matplotlib inline"
   ]
  },
  {
   "cell_type": "code",
   "execution_count": 11,
   "metadata": {
    "collapsed": true
   },
   "outputs": [],
   "source": [
    "def conv_forward(inputx,kernel_size,pad,filters,params = None):\n",
    "    # inputx should be like (batch_number,channel,width,height)\n",
    "    N, C, H, W = inputx.shape\n",
    "    if params is None:\n",
    "        w = np.random.randn(filters,C,kernel_size,kernel_size)\n",
    "        b = np.random.randn(filters)\n",
    "    else:\n",
    "        (w,b) = params\n",
    "    \n",
    "    x_pad = np.pad(inputx, ((0, 0), (0, 0), (pad, pad), (pad, pad)), mode='constant')\n",
    "    x_pad_H,x_pad_W = x_pad.shape[2:]\n",
    "    \n",
    "    \n",
    "    x_out = np.zeros((N, filters, x_pad_H - kernel_size + 1, x_pad_W - kernel_size + 1))\n",
    "    for n in range(N):\n",
    "        for f in range(filters):\n",
    "            for i in range(x_pad_H - kernel_size + 1):\n",
    "                for j in range(x_pad_W - kernel_size + 1):\n",
    "                    begin_x_cord = i\n",
    "                    end_x_cord = i + kernel_size\n",
    "                    begin_y_cord = j \n",
    "                    end_y_cord = j + kernel_size\n",
    "                    window = x_pad[n,:,begin_x_cord:end_x_cord,begin_y_cord:end_y_cord]\n",
    "                    x_out[n,f,i,j] = np.sum(window * w[f]) + b[f]\n",
    "    #print((N, filters, x_pad_H - kernel_size, x_pad_W - kernel_size))\n",
    "    return x_out,(w,b)            \n",
    "\n",
    "def conv_backword(x_input,dy,params,kernel_size,pad,filters):\n",
    "    (w,b) = params\n",
    "    x_pad = np.pad(x_input, ((0, 0), (0, 0), (pad, pad), (pad, pad)), 'constant')\n",
    "    dx_pad = np.zeros_like(np.pad(x_input, ((0, 0), (0, 0), (pad, pad), (pad, pad)), 'constant'))\n",
    "    N, C, H, W = x_input.shape\n",
    "    x_pad_H,x_pad_W = x_pad.shape[2:]\n",
    "    \n",
    "    dx = np.zeros_like(x_input)\n",
    "    dw = np.zeros_like(w)\n",
    "    db = np.zeros_like(b)\n",
    "    for n in range(N):       # ith image\n",
    "        for f in range(filters):   # fth filter\n",
    "            for i in range(x_pad_H - kernel_size + 1):\n",
    "                for j in range(x_pad_W - kernel_size + 1):\n",
    "                    begin_x_cord = i\n",
    "                    end_x_cord = i + kernel_size\n",
    "                    begin_y_cord = j \n",
    "                    end_y_cord = j + kernel_size\n",
    "                    window = x_pad[n,:,begin_x_cord:end_x_cord,begin_y_cord:end_y_cord]\n",
    "                    db[f] += dy[n, f, i, j]\n",
    "                    dw[f] += dy[n, f, i, j] * window\n",
    "                    dx_pad[n,:,begin_x_cord:end_x_cord,begin_y_cord:end_y_cord] += w[f] * dy[n, f, i, j]\n",
    "    dx = dx_pad[:, :, pad:pad+H, pad:pad+W]\n",
    "    return dx,(dw,db)"
   ]
  },
  {
   "cell_type": "code",
   "execution_count": 12,
   "metadata": {},
   "outputs": [],
   "source": [
    "inputx = np.random.randn(2,1,3,3)"
   ]
  },
  {
   "cell_type": "code",
   "execution_count": 13,
   "metadata": {},
   "outputs": [],
   "source": [
    "conved_x,conv_param = conv_forward(inputx,3,1,3)\n",
    "dx,(dw,db) = conv_backword(inputx,2 * conved_x,conv_param,3,1,3)"
   ]
  },
  {
   "cell_type": "code",
   "execution_count": 14,
   "metadata": {},
   "outputs": [
    {
     "data": {
      "text/plain": [
       "array([ -4.72576196,  34.03165233, -10.14587913])"
      ]
     },
     "execution_count": 14,
     "metadata": {},
     "output_type": "execute_result"
    }
   ],
   "source": [
    "db"
   ]
  },
  {
   "cell_type": "code",
   "execution_count": 15,
   "metadata": {},
   "outputs": [
    {
     "data": {
      "text/plain": [
       "array([ 0.32292054,  0.8367935 ,  0.34272512])"
      ]
     },
     "execution_count": 15,
     "metadata": {},
     "output_type": "execute_result"
    }
   ],
   "source": [
    "conv_param[1]"
   ]
  },
  {
   "cell_type": "code",
   "execution_count": 16,
   "metadata": {},
   "outputs": [],
   "source": [
    "lr = 0.001\n",
    "log = []\n",
    "for i in range(3000):\n",
    "    conved_x,_ = conv_forward(inputx,3,1,3,conv_param)\n",
    "    dx,(dw,db) = conv_backword(inputx,2 * conved_x,conv_param,3,1,3)\n",
    "    \n",
    "    (w,b) = conv_param\n",
    "    w -= dw * lr\n",
    "    b -= db * lr\n",
    "    \n",
    "    loss = np.sum(conved_x * conved_x)\n",
    "    log.append(loss)"
   ]
  },
  {
   "cell_type": "code",
   "execution_count": 17,
   "metadata": {},
   "outputs": [
    {
     "data": {
      "text/plain": [
       "<matplotlib.axes._subplots.AxesSubplot at 0x7f54663d4588>"
      ]
     },
     "execution_count": 17,
     "metadata": {},
     "output_type": "execute_result"
    },
    {
     "data": {
      "image/png": "[encoded data removed]",
      "text/plain": [
       "<matplotlib.figure.Figure at 0x7f54663dec88>"
      ]
     },
     "metadata": {},
     "output_type": "display_data"
    }
   ],
   "source": [
    "pd.DataFrame(log[:40]).plot()"
   ]
  },
  {
   "cell_type": "code",
   "execution_count": null,
   "metadata": {
    "collapsed": true
   },
   "outputs": [],
   "source": []
  }
 ],
 "metadata": {
  "kernelspec": {
   "display_name": "Python 3",
   "language": "python",
   "name": "python3"
  },
  "language_info": {
   "codemirror_mode": {
    "name": "ipython",
    "version": 3
   },
   "file_extension": ".py",
   "mimetype": "text/x-python",
   "name": "python",
   "nbconvert_exporter": "python",
   "pygments_lexer": "ipython3",
   "version": "3.7.1"
  }
 },
 "nbformat": 4,
 "nbformat_minor": 1
}
